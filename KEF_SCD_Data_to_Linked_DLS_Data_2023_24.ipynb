{
  "cells": [
    {
      "cell_type": "markdown",
      "metadata": {
        "id": "view-in-github",
        "colab_type": "text"
      },
      "source": [
        "<a href=\"https://colab.research.google.com/github/path2deep/KEF/blob/master/KEF_SCD_Data_to_Linked_DLS_Data_2023_24.ipynb\" target=\"_parent\"><img src=\"https://colab.research.google.com/assets/colab-badge.svg\" alt=\"Open In Colab\"/></a>"
      ]
    },
    {
      "cell_type": "code",
      "execution_count": null,
      "metadata": {
        "colab": {
          "base_uri": "https://localhost:8080/"
        },
        "id": "0TzNIgfl8hV7",
        "outputId": "b27c4205-f626-4250-8563-6e0f236b7dd5"
      },
      "outputs": [
        {
          "output_type": "stream",
          "name": "stdout",
          "text": [
            "Requirement already satisfied: gspread in /usr/local/lib/python3.10/dist-packages (6.0.2)\n",
            "Requirement already satisfied: google-auth>=1.12.0 in /usr/local/lib/python3.10/dist-packages (from gspread) (2.27.0)\n",
            "Requirement already satisfied: google-auth-oauthlib>=0.4.1 in /usr/local/lib/python3.10/dist-packages (from gspread) (1.2.1)\n",
            "Requirement already satisfied: StrEnum==0.4.15 in /usr/local/lib/python3.10/dist-packages (from gspread) (0.4.15)\n",
            "Requirement already satisfied: cachetools<6.0,>=2.0.0 in /usr/local/lib/python3.10/dist-packages (from google-auth>=1.12.0->gspread) (5.3.3)\n",
            "Requirement already satisfied: pyasn1-modules>=0.2.1 in /usr/local/lib/python3.10/dist-packages (from google-auth>=1.12.0->gspread) (0.4.0)\n",
            "Requirement already satisfied: rsa<5,>=3.1.4 in /usr/local/lib/python3.10/dist-packages (from google-auth>=1.12.0->gspread) (4.9)\n",
            "Requirement already satisfied: requests-oauthlib>=0.7.0 in /usr/local/lib/python3.10/dist-packages (from google-auth-oauthlib>=0.4.1->gspread) (1.3.1)\n",
            "Requirement already satisfied: pyasn1<0.7.0,>=0.4.6 in /usr/local/lib/python3.10/dist-packages (from pyasn1-modules>=0.2.1->google-auth>=1.12.0->gspread) (0.6.0)\n",
            "Requirement already satisfied: oauthlib>=3.0.0 in /usr/local/lib/python3.10/dist-packages (from requests-oauthlib>=0.7.0->google-auth-oauthlib>=0.4.1->gspread) (3.2.2)\n",
            "Requirement already satisfied: requests>=2.0.0 in /usr/local/lib/python3.10/dist-packages (from requests-oauthlib>=0.7.0->google-auth-oauthlib>=0.4.1->gspread) (2.31.0)\n",
            "Requirement already satisfied: charset-normalizer<4,>=2 in /usr/local/lib/python3.10/dist-packages (from requests>=2.0.0->requests-oauthlib>=0.7.0->google-auth-oauthlib>=0.4.1->gspread) (3.3.2)\n",
            "Requirement already satisfied: idna<4,>=2.5 in /usr/local/lib/python3.10/dist-packages (from requests>=2.0.0->requests-oauthlib>=0.7.0->google-auth-oauthlib>=0.4.1->gspread) (3.7)\n",
            "Requirement already satisfied: urllib3<3,>=1.21.1 in /usr/local/lib/python3.10/dist-packages (from requests>=2.0.0->requests-oauthlib>=0.7.0->google-auth-oauthlib>=0.4.1->gspread) (2.0.7)\n",
            "Requirement already satisfied: certifi>=2017.4.17 in /usr/local/lib/python3.10/dist-packages (from requests>=2.0.0->requests-oauthlib>=0.7.0->google-auth-oauthlib>=0.4.1->gspread) (2024.7.4)\n"
          ]
        }
      ],
      "source": [
        "import pandas as pd\n",
        "import numpy as np\n",
        "import io\n",
        "import seaborn as sns\n",
        "import matplotlib.pyplot as plt\n",
        "from google.colab import files\n",
        "\n",
        "#uploading\n",
        "!pip install gspread\n",
        "import pandas as pd\n",
        "import gspread\n",
        "from google.colab import auth\n",
        "from gspread_dataframe import set_with_dataframe\n",
        "\n",
        "# Authentication\n",
        "from google.colab import auth\n",
        "auth.authenticate_user()\n",
        "\n",
        "import gspread\n",
        "from google.auth import default\n",
        "creds, _ = default()\n",
        "\n",
        "gc = gspread.authorize(creds)"
      ]
    },
    {
      "cell_type": "code",
      "execution_count": null,
      "metadata": {
        "id": "FclqVnrr8rkr"
      },
      "outputs": [],
      "source": [
        "#for 60 schools students\n",
        "ws_1 = gc.open_by_key('1Oy-Wc30YhfEf7g18Go3VpOs39ztyWcwnrecdb2D2TU8')\n",
        "#for teachers\n",
        "ws_2 = gc.open_by_key('1ozK2eQNe3erQXMOq4Pni1rIECAaByEpR8m5M53EAV24')\n",
        "# for STM schools students\n",
        "ws_3 = gc.open_by_key('1_JZ3mVEPiCrnqRD0zlT72IK9JaqMYnZZJp2pPA8zeko')\n",
        "\n",
        "## update the sheet number\n",
        "#sheet Number for studnet database in 60 school\n",
        "ws_1_1 =  ws_1.get_worksheet(9)\n",
        "#sheet number for teachers database\n",
        "ws_2_2 =  ws_2.get_worksheet(3)\n",
        "#sheet number for studnets database for STM schools\n",
        "ws_3_3 =  ws_3.get_worksheet(7)"
      ]
    },
    {
      "cell_type": "code",
      "execution_count": null,
      "metadata": {
        "id": "f27EpPMr8ro1"
      },
      "outputs": [],
      "source": [
        "# get_all_values gives a list of rows.\n",
        "rows_1 = ws_1_1.get_all_values()\n",
        "rows_2 = ws_2_2.get_all_values()\n",
        "rows_3 = ws_3_3.get_all_values()\n",
        "\n",
        "\n",
        "###studnets database for 60 schools\n",
        "\n",
        "students_60 = pd.DataFrame.from_records(rows_1[2:], columns=rows_1[1])\n",
        "# Students upload\n",
        "# If the workbook is not shared, it needs to be shared with the authenticated account.\n",
        "workbook_60 = gc.open('Linked to KEF ID Students database 2023-24')\n",
        "\n",
        "# Replace 'Your_Worksheet_Name' with the name of the specific worksheet you want to upload data to\n",
        "worksheet_60 = workbook_60.worksheet('Student')\n",
        "#upload data\n",
        "upload_range = 'A1'\n",
        "# Upload the DataFrame to the worksheet\n",
        "set_with_dataframe(worksheet_60, students_60, include_index=False, include_column_header=True, resize=True)\n",
        "\n",
        "###teachers database upload\n",
        "\n",
        "teachers_all = pd.DataFrame.from_records(rows_2[2:], columns=rows_2[1])\n",
        "# teachers upload\n",
        "# If the workbook is not shared, it needs to be shared with the authenticated account.\n",
        "workbook = gc.open('Linked to KEF Id Teacher Database 23-24')\n",
        "# Replace 'Your_Worksheet_Name' with the name of the specific worksheet you want to upload data to\n",
        "worksheet = workbook.worksheet('Teachers_KEF_SCD')\n",
        "#upload data\n",
        "upload_range = 'A1'\n",
        "# Upload the DataFrame to the worksheet\n",
        "set_with_dataframe(worksheet, teachers_all, include_index=False, include_column_header=True, resize=True)\n",
        "\n",
        "### for STM students\n",
        "\n",
        "students_stm = pd.DataFrame.from_records(rows_3[2:], columns=rows_3[1])\n",
        "#  STM Students upload\n",
        "# If the workbook is not shared, it needs to be shared with the authenticated account.\n",
        "workbook_stm = gc.open('Linked 30+20+20 New school_KEF Id Students data - 23-24')\n",
        "\n",
        "# Replace 'Your_Worksheet_Name' with the name of the specific worksheet you want to upload data to\n",
        "worksheet_stm = workbook_stm.worksheet('KEF_SCD')\n",
        "#upload data\n",
        "upload_range = 'A1'\n",
        "# Upload the DataFrame to the worksheet\n",
        "set_with_dataframe(worksheet_stm, students_stm, include_index=False, include_column_header=True, resize=True)"
      ]
    },
    {
      "cell_type": "code",
      "execution_count": null,
      "metadata": {
        "id": "g1R1qKmE5hYK"
      },
      "outputs": [],
      "source": []
    }
  ],
  "metadata": {
    "colab": {
      "provenance": [],
      "authorship_tag": "ABX9TyM6cAqB53jVpmY36fOIdK+R",
      "include_colab_link": true
    },
    "kernelspec": {
      "display_name": "Python 3",
      "name": "python3"
    },
    "language_info": {
      "name": "python"
    }
  },
  "nbformat": 4,
  "nbformat_minor": 0
}